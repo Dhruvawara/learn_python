{
 "cells": [
  {
   "cell_type": "code",
   "execution_count": 11,
   "metadata": {},
   "outputs": [
    {
     "name": "stdout",
     "output_type": "stream",
     "text": [
      "X =  456 \t| i % 2 == 0 = True\t| EVEN : [456]\n",
      "X =  5376 \t| i % 2 == 0 = True\t| EVEN : [456, 5376]\n",
      "X =  537 \t| i % 2 == 0 = False\t| ODD : [537]\n",
      "X =  543 \t| i % 2 == 0 = False\t| ODD : [537, 543]\n",
      "X =  357 \t| i % 2 == 0 = False\t| ODD : [537, 543, 357]\n",
      "X =  5735 \t| i % 2 == 0 = False\t| ODD : [537, 543, 357, 5735]\n",
      "X =  53753 \t| i % 2 == 0 = False\t| ODD : [537, 543, 357, 5735, 53753]\n",
      "X =  534 \t| i % 2 == 0 = True\t| EVEN : [456, 5376, 534]\n",
      "X =  5435 \t| i % 2 == 0 = False\t| ODD : [537, 543, 357, 5735, 53753, 5435]\n",
      "X =  35453 \t| i % 2 == 0 = False\t| ODD : [537, 543, 357, 5735, 53753, 5435, 35453]\n",
      "X =  5746 \t| i % 2 == 0 = True\t| EVEN : [456, 5376, 534, 5746]\n",
      "X =  684 \t| i % 2 == 0 = True\t| EVEN : [456, 5376, 534, 5746, 684]\n",
      "X =  354 \t| i % 2 == 0 = True\t| EVEN : [456, 5376, 534, 5746, 684, 354]\n",
      "X =  54 \t| i % 2 == 0 = True\t| EVEN : [456, 5376, 534, 5746, 684, 354, 54]\n",
      "X =  357 \t| i % 2 == 0 = False\t| ODD : [537, 543, 357, 5735, 53753, 5435, 35453, 357]\n",
      "X =  486 \t| i % 2 == 0 = True\t| EVEN : [456, 5376, 534, 5746, 684, 354, 54, 486]\n",
      "X =  564 \t| i % 2 == 0 = True\t| EVEN : [456, 5376, 534, 5746, 684, 354, 54, 486, 564]\n"
     ]
    }
   ],
   "source": [
    "x = [\n",
    "    456,5376,537,543,357,5735,53753,534,5435,35453,5746,684,354,54,357,486,564,\n",
    "]\n",
    "even =[]\n",
    "odd=[]\n",
    "\n",
    "for i in x:\n",
    "    print('X = ',i,end=' \\t| ')\n",
    "    if i % 2 == 0:\n",
    "        even += [i]\n",
    "        print(f'{i % 2 == 0 = }\\t| EVEN : {even}')\n",
    "    else:\n",
    "        odd += [i]\n",
    "        print(f'{i % 2 == 0 = }\\t| ODD : {odd}')"
   ]
  },
  {
   "cell_type": "code",
   "execution_count": null,
   "metadata": {},
   "outputs": [],
   "source": []
  }
 ],
 "metadata": {
  "interpreter": {
   "hash": "6527c556b17a0b536420a9c9bfb91cd3dbe19ee5b555c02ce87105e79f00f4c6"
  },
  "kernelspec": {
   "display_name": "Python 3.10.1 64-bit",
   "language": "python",
   "name": "python3"
  },
  "language_info": {
   "codemirror_mode": {
    "name": "ipython",
    "version": 3
   },
   "file_extension": ".py",
   "mimetype": "text/x-python",
   "name": "python",
   "nbconvert_exporter": "python",
   "pygments_lexer": "ipython3",
   "version": "3.8.10"
  },
  "orig_nbformat": 4
 },
 "nbformat": 4,
 "nbformat_minor": 2
}
