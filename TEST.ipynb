{
 "cells": [
  {
   "cell_type": "code",
   "execution_count": 31,
   "metadata": {},
   "outputs": [
    {
     "name": "stdout",
     "output_type": "stream",
     "text": [
      "Diagonal\n"
     ]
    }
   ],
   "source": [
    "list_input=[2,2,2,2,1,1,1,2,3]\n",
    "def function(list_input):\n",
    "    new_list = []\n",
    "    output_list = [False for _ in list_input]\n",
    "    for element in list_input:\n",
    "        if element not in new_list:\n",
    "            new_list.append(element)\n",
    "            output_list.pop(list_input.index(element))\n",
    "            output_list.insert(list_input.index(element),True)\n",
    "    \n",
    "    # Converting Bool value to 0 and 1, and converting into 3 x 3 matrix\n",
    "    output_list = [1 if element else 0 for element in output_list]\n",
    "    matrix = [output_list[:3],output_list[3:6],output_list[6:9]]\n",
    "    \n",
    "    # Checking if diagonal matrix value is 0 and if there are multiple one's\n",
    "    for element in range(len(matrix)):\n",
    "        if matrix[element][element] == 0 or matrix[element].count(1) > 1:\n",
    "            return False\n",
    "    return True\n",
    "    \n",
    "if function(list_input) == True:\n",
    "    print(\"Diagonal\")\n",
    "else:\n",
    "    print(\"Not Diagonal\")"
   ]
  }
 ],
 "metadata": {
  "interpreter": {
   "hash": "6527c556b17a0b536420a9c9bfb91cd3dbe19ee5b555c02ce87105e79f00f4c6"
  },
  "kernelspec": {
   "display_name": "Python 3.10.1 64-bit",
   "language": "python",
   "name": "python3"
  },
  "language_info": {
   "codemirror_mode": {
    "name": "ipython",
    "version": 3
   },
   "file_extension": ".py",
   "mimetype": "text/x-python",
   "name": "python",
   "nbconvert_exporter": "python",
   "pygments_lexer": "ipython3",
   "version": "3.10.1"
  },
  "orig_nbformat": 4
 },
 "nbformat": 4,
 "nbformat_minor": 2
}
