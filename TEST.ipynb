{
 "cells": [
  {
   "cell_type": "code",
   "execution_count": 7,
   "metadata": {},
   "outputs": [
    {
     "name": "stdout",
     "output_type": "stream",
     "text": [
      "[131, 234, 324, 23, 423, 4, 23, 4, 234, 23, 4, 234, 234, 23, 4, 23, 4, 23, 432, 4, 32, 4]\n",
      "[131, 234, 324, 23, 423, 4, 23, 4, 234, 23, 4, 234, 234, 23, 4, 23, 4, 23, 432, 4, 32, 4]\n",
      "True\n"
     ]
    }
   ],
   "source": [
    "a = [131,234,324,23,423,4,23,4,234,23,4,234,234,23,4,23,4,23,432,4,32,4,]\n",
    "b = [*a]\n",
    "print(a,b,10 < 10.1,sep='\\n')"
   ]
  }
 ],
 "metadata": {
  "interpreter": {
   "hash": "6527c556b17a0b536420a9c9bfb91cd3dbe19ee5b555c02ce87105e79f00f4c6"
  },
  "kernelspec": {
   "display_name": "Python 3.10.1 64-bit",
   "language": "python",
   "name": "python3"
  },
  "language_info": {
   "codemirror_mode": {
    "name": "ipython",
    "version": 3
   },
   "file_extension": ".py",
   "mimetype": "text/x-python",
   "name": "python",
   "nbconvert_exporter": "python",
   "pygments_lexer": "ipython3",
   "version": "3.8.10"
  },
  "orig_nbformat": 4
 },
 "nbformat": 4,
 "nbformat_minor": 2
}
