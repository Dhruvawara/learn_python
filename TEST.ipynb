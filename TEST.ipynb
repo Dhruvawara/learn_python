{
 "cells": [
  {
   "cell_type": "code",
   "execution_count": 23,
   "metadata": {},
   "outputs": [
    {
     "name": "stdout",
     "output_type": "stream",
     "text": [
      "***********************************\n",
      "**                               **\n",
      "**             radar             **\n",
      "**        This is bad man        **\n",
      "** Was it a cat,ot a cat,I saw?  **\n",
      "**       Do geese see god?       **\n",
      "***********************************\n"
     ]
    }
   ],
   "source": [
    "def ispalindrome(string:str='*',d:int=80)->None:\n",
    "       \"\"\"\n",
    "       Multiply 2 numbers.\n",
    "       \n",
    "       Although this function is intended to multiply 2 numbers,\n",
    "       you can also use it to multiply a sequence.  If you pass\n",
    "       a string, for example, as the first argument, you'll get\n",
    "       the string repeated `y` times as the returned value.\n",
    "       \n",
    "       :param x: The first number to multiply.\n",
    "       :param y: The number to multiply `x` by.\n",
    "       :return: The product of `x` and `y`.\n",
    "       \"\"\"\n",
    "       temp_string = d\n",
    "       if string == '*':\n",
    "              print('*' * temp_string)\n",
    "       else:\n",
    "              s ='**{:^'+str(temp_string-4)+'s}**'\n",
    "              print(s.format(string))\n",
    "\n",
    "ispalindrome(d=35) \n",
    "ispalindrome(\"\",35) \n",
    "ispalindrome(\"radar\",35) \n",
    "ispalindrome(\"This is bad man\",35) \n",
    "ispalindrome(\"Was it a cat,ot a cat,I saw?\",35) \n",
    "ispalindrome(\"Do geese see god?\",35) \n",
    "ispalindrome(d=35) "
   ]
  },
  {
   "cell_type": "code",
   "execution_count": null,
   "metadata": {},
   "outputs": [],
   "source": [
    "s = input()\n",
    "if 0 < len(s) < 1000:\n",
    "    alnum = s.isalnum()\n",
    "    alpha = False\n",
    "    digit = False\n",
    "    lower = False\n",
    "    upper = False\n",
    "    for char in s:\n",
    "        if char.isalpha():\n",
    "            alpha = True\n",
    "        if char.isdigit():\n",
    "            digit = True\n",
    "        if char.islower():\n",
    "            lower = True\n",
    "        if char.isupper():\n",
    "            upper = True\n",
    "    print(alnum,alpha,digit,lower,upper,sep='\\n')\n",
    "    "
   ]
  },
  {
   "cell_type": "code",
   "execution_count": 22,
   "metadata": {},
   "outputs": [
    {
     "name": "stdout",
     "output_type": "stream",
     "text": [
      "    H    \n",
      "   HHH   \n",
      "  HHHHH  \n",
      " HHHHHHH \n",
      "HHHHHHHHH\n",
      "  HHHHH               HHHHH             \n",
      "  HHHHH               HHHHH             \n",
      "  HHHHH               HHHHH             \n",
      "  HHHHH               HHHHH             \n",
      "  HHHHH               HHHHH             \n",
      "  HHHHH               HHHHH             \n",
      "  HHHHHHHHHHHHHHHHHHHHHHHHH   \n",
      "  HHHHHHHHHHHHHHHHHHHHHHHHH   \n",
      "  HHHHHHHHHHHHHHHHHHHHHHHHH   \n",
      "  HHHHH               HHHHH             \n",
      "  HHHHH               HHHHH             \n",
      "  HHHHH               HHHHH             \n",
      "  HHHHH               HHHHH             \n",
      "  HHHHH               HHHHH             \n",
      "  HHHHH               HHHHH             \n",
      "                    HHHHHHHHH \n",
      "                     HHHHHHH  \n",
      "                      HHHHH   \n",
      "                       HHH    \n",
      "                        H     \n"
     ]
    }
   ],
   "source": [
    "#Replace all ______ with rjust, ljust or center. \n",
    "\n",
    "thickness = 5 #This must be an odd number\n",
    "c = 'H'\n",
    "\n",
    "#Top Cone\n",
    "for i in range(thickness):\n",
    "    print((c*i).rjust(thickness-1)+c+(c*i).ljust(thickness-1))\n",
    "\n",
    "#Top Pillars\n",
    "for i in range(thickness+1):\n",
    "    print((c*thickness).center(thickness*2)+(c*thickness).center(thickness*6))\n",
    "\n",
    "#Middle Belt\n",
    "for i in range((thickness+1)//2):\n",
    "    print((c*thickness*5).center(thickness*6))    \n",
    "\n",
    "#Bottom Pillars\n",
    "for i in range(thickness+1):\n",
    "    print((c*thickness).center(thickness*2)+(c*thickness).center(thickness*6))    \n",
    "\n",
    "#Bottom Cone\n",
    "for i in range(thickness):\n",
    "    print(((c*(thickness-i-1)).rjust(thickness)+c+(c*(thickness-i-1)).ljust(thickness)).rjust(thickness*6))"
   ]
  }
 ],
 "metadata": {
  "interpreter": {
   "hash": "6527c556b17a0b536420a9c9bfb91cd3dbe19ee5b555c02ce87105e79f00f4c6"
  },
  "kernelspec": {
   "display_name": "Python 3.10.1 64-bit",
   "language": "python",
   "name": "python3"
  },
  "language_info": {
   "codemirror_mode": {
    "name": "ipython",
    "version": 3
   },
   "file_extension": ".py",
   "mimetype": "text/x-python",
   "name": "python",
   "nbconvert_exporter": "python",
   "pygments_lexer": "ipython3",
   "version": "3.10.1"
  },
  "orig_nbformat": 4
 },
 "nbformat": 4,
 "nbformat_minor": 2
}
