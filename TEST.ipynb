{
 "cells": [
  {
   "cell_type": "code",
   "execution_count": 52,
   "metadata": {},
   "outputs": [
    {
     "name": "stdout",
     "output_type": "stream",
     "text": [
      "* * * * * $ $ $ $ $\n",
      "*       * $       $\n",
      "*     * * $ $     $\n",
      "*   * * * $ $ $   $\n",
      "* * * * * $ $ $ $ $\n",
      "@ @ @ @ @ # # # # #\n",
      "@   @ @ @ # # #   #\n",
      "@     @ @ # #     #\n",
      "@       @ #       #\n",
      "@ @ @ @ @ # # # # #\n"
     ]
    }
   ],
   "source": [
    "for i in range(0,5):\n",
    "    if i == 0:\n",
    "        i = 4\n",
    "    print('*',' '.join(['*'] * i).rjust(7,' '),' '.join(['$'] * i).ljust(7,' '),'$')\n",
    "\n",
    "for i in range(4,-1,-1):\n",
    "    i = abs(i)\n",
    "    if i == 0:\n",
    "        i = 4\n",
    "    print('@',' '.join(['@'] * i).rjust(7,' '),' '.join(['#'] * i).ljust(7,' '),'#')\n"
   ]
  },
  {
   "cell_type": "code",
   "execution_count": null,
   "metadata": {},
   "outputs": [],
   "source": []
  }
 ],
 "metadata": {
  "interpreter": {
   "hash": "6527c556b17a0b536420a9c9bfb91cd3dbe19ee5b555c02ce87105e79f00f4c6"
  },
  "kernelspec": {
   "display_name": "Python 3.10.1 64-bit",
   "language": "python",
   "name": "python3"
  },
  "language_info": {
   "codemirror_mode": {
    "name": "ipython",
    "version": 3
   },
   "file_extension": ".py",
   "mimetype": "text/x-python",
   "name": "python",
   "nbconvert_exporter": "python",
   "pygments_lexer": "ipython3",
   "version": "3.10.1"
  },
  "orig_nbformat": 4
 },
 "nbformat": 4,
 "nbformat_minor": 2
}
